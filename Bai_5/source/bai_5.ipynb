{
 "cells": [
  {
   "cell_type": "code",
   "execution_count": 57,
   "id": "0784de36",
   "metadata": {},
   "outputs": [],
   "source": [
    "import pandas as pd\n",
    "import numpy as np\n",
    "from sklearn.ensemble import RandomForestClassifier\n",
    "from sklearn.tree import DecisionTreeClassifier\n",
    "from sklearn.metrics import f1_score\n",
    "from sklearn.model_selection import train_test_split, GridSearchCV\n",
    "from sklearn.preprocessing import StandardScaler"
   ]
  },
  {
   "cell_type": "code",
   "execution_count": 58,
   "id": "edfe325b",
   "metadata": {},
   "outputs": [
    {
     "name": "stderr",
     "output_type": "stream",
     "text": [
      "<>:1: SyntaxWarning: invalid escape sequence '\\T'\n",
      "<>:1: SyntaxWarning: invalid escape sequence '\\T'\n",
      "C:\\Users\\Admin\\AppData\\Local\\Temp\\ipykernel_27848\\1517680743.py:1: SyntaxWarning: invalid escape sequence '\\T'\n",
      "  data = pd.read_csv('C:\\Th-th-ch-BAI-Labs\\Bai_5\\data\\insurance_claims.csv')\n"
     ]
    }
   ],
   "source": [
    "data = pd.read_csv('C:\\Th-th-ch-BAI-Labs\\Bai_5\\data\\insurance_claims.csv')"
   ]
  },
  {
   "cell_type": "code",
   "execution_count": 59,
   "id": "47b29ecb",
   "metadata": {},
   "outputs": [
    {
     "name": "stderr",
     "output_type": "stream",
     "text": [
      "C:\\Users\\Admin\\AppData\\Local\\Temp\\ipykernel_27848\\1023905105.py:9: FutureWarning: Downcasting behavior in `replace` is deprecated and will be removed in a future version. To retain the old behavior, explicitly call `result.infer_objects(copy=False)`. To opt-in to the future behavior, set `pd.set_option('future.no_silent_downcasting', True)`\n",
      "  df['fraud_reported'] = df['fraud_reported'].replace({'Y':1, 'N':0})\n"
     ]
    }
   ],
   "source": [
    "dropc_list = ['policy_number','policy_bind_date','policy_state','insured_zip','incident_location','incident_date',\n",
    "           'incident_state','incident_city','insured_hobbies','auto_make','auto_model','auto_year', '_c39',\n",
    "           'age','total_claim_amount']\n",
    "dropr_list = [578]\n",
    "df = data.copy()\n",
    "\n",
    "df.drop(columns=dropc_list, inplace=True)\n",
    "df.drop(index=dropr_list, inplace=True)\n",
    "df['fraud_reported'] = df['fraud_reported'].replace({'Y':1, 'N':0})\n",
    "target = df.pop('fraud_reported')\n",
    "df.replace('?', np.nan, inplace = True)\n",
    "df['collision_type'] = df['collision_type'].fillna(df['collision_type'].mode()[0])\n",
    "df['property_damage'] = df['property_damage'].fillna(df['property_damage'].mode()[0])\n",
    "df['police_report_available'] = df['police_report_available'].fillna(df['police_report_available'].mode()[0])\n",
    "o_col = df.select_dtypes(include = ['object'])\n",
    "num_df = df.select_dtypes(include = ['int64'])\n",
    "o_col = pd.get_dummies(o_col)\n",
    "\n",
    "\n",
    "scaler = StandardScaler()\n",
    "name = num_df.columns\n",
    "num_df = scaler.fit_transform(num_df)\n",
    "num_df = pd.DataFrame(num_df, columns = name)\n",
    "df = pd.concat([num_df, o_col], axis = 1)\n",
    "df = df.dropna()\n",
    "target = target.dropna()\n",
    "target.drop(axis  = 0, index = 998,inplace=True)"
   ]
  },
  {
   "cell_type": "code",
   "execution_count": 60,
   "id": "29b1f576",
   "metadata": {},
   "outputs": [
    {
     "data": {
      "text/plain": [
       "fraud_reported\n",
       "0    751\n",
       "1    247\n",
       "Name: count, dtype: int64"
      ]
     },
     "execution_count": 60,
     "metadata": {},
     "output_type": "execute_result"
    }
   ],
   "source": [
    "target.value_counts()"
   ]
  },
  {
   "cell_type": "code",
   "execution_count": 61,
   "id": "c769c805",
   "metadata": {},
   "outputs": [],
   "source": [
    "param_grid = {\n",
    "    'criterion': ['gini', 'entropy'],\n",
    "    'max_depth': list(range(1, 10, 2)) + [None],\n",
    "    'min_samples_leaf': range(1, 10, 2),\n",
    "    'min_samples_split': range(1, 10, 2),\n",
    "}"
   ]
  },
  {
   "cell_type": "code",
   "execution_count": 62,
   "id": "e2e1df3c",
   "metadata": {},
   "outputs": [],
   "source": [
    "X_train, X_test, y_train, y_test = train_test_split(df, target, test_size = 0.2, random_state = 42)"
   ]
  },
  {
   "cell_type": "code",
   "execution_count": 63,
   "id": "5085c6c1",
   "metadata": {},
   "outputs": [],
   "source": [
    "grid_search = GridSearchCV(DecisionTreeClassifier(), param_grid, cv = 5)"
   ]
  },
  {
   "cell_type": "code",
   "execution_count": 64,
   "id": "6ebfac1d",
   "metadata": {},
   "outputs": [],
   "source": [
    "#grid_search.fit(X_train, y_train)"
   ]
  },
  {
   "cell_type": "code",
   "execution_count": 65,
   "id": "a3b3b81d",
   "metadata": {},
   "outputs": [],
   "source": [
    "#grid_search.best_estimator_"
   ]
  },
  {
   "cell_type": "code",
   "execution_count": 66,
   "id": "829c064a",
   "metadata": {},
   "outputs": [],
   "source": [
    "dt = DecisionTreeClassifier(\n",
    "                            max_depth = 1,\n",
    "                            min_samples_leaf= 3, \n",
    "                            min_samples_split = 3, \n",
    "                            random_state = 42,)"
   ]
  },
  {
   "cell_type": "code",
   "execution_count": 67,
   "id": "3c21fbc9",
   "metadata": {},
   "outputs": [
    {
     "name": "stdout",
     "output_type": "stream",
     "text": [
      "0.6405867970660146\n",
      "0.631578947368421\n"
     ]
    }
   ],
   "source": [
    "dt.fit(X_train, y_train)\n",
    "print(f1_score(dt.predict(X_train), y_train))\n",
    "print(f1_score(dt.predict(X_test), y_test))"
   ]
  },
  {
   "cell_type": "code",
   "execution_count": 68,
   "id": "7c588247",
   "metadata": {},
   "outputs": [
    {
     "name": "stdout",
     "output_type": "stream",
     "text": [
      "0.908641975308642\n",
      "0.6181818181818182\n"
     ]
    }
   ],
   "source": [
    "rf = RandomForestClassifier(criterion= 'entropy',\n",
    "                            min_samples_leaf= 1, \n",
    "                            min_samples_split = 10, \n",
    "                            n_estimators= 82, \n",
    "                            random_state = 42,\n",
    "                            class_weight = 'balanced_subsample',\n",
    ")\n",
    "rf.fit(X_train, y_train)\n",
    "print(f1_score(rf.predict(X_train), y_train))\n",
    "print(f1_score(rf.predict(X_test), y_test))"
   ]
  },
  {
   "cell_type": "code",
   "execution_count": 69,
   "id": "003fd688",
   "metadata": {},
   "outputs": [
    {
     "name": "stdout",
     "output_type": "stream",
     "text": [
      "                           feature  importance\n",
      "51  incident_severity_Major Damage    0.179753\n",
      "10                  property_claim    0.063123\n",
      "11                   vehicle_claim    0.060536\n",
      "9                     injury_claim    0.058690\n",
      "0               months_as_customer    0.054954\n"
     ]
    }
   ],
   "source": [
    "c = np.array(rf.feature_importances_)\n",
    "features = np.array(df.columns) \n",
    "\n",
    "feat_df = pd.DataFrame({'feature': features, 'importance': c})\n",
    "\n",
    "top5 = feat_df.sort_values(by='importance', ascending=False).head(5)\n",
    "print(top5)"
   ]
  },
  {
   "cell_type": "code",
   "execution_count": 70,
   "id": "0827c6fc",
   "metadata": {},
   "outputs": [
    {
     "name": "stdout",
     "output_type": "stream",
     "text": [
      "                           feature  importance\n",
      "51  incident_severity_Major Damage         1.0\n",
      "1                policy_deductable         0.0\n",
      "0               months_as_customer         0.0\n",
      "3                    capital-gains         0.0\n",
      "4                     capital-loss         0.0\n"
     ]
    }
   ],
   "source": [
    "c = np.array(dt.feature_importances_)\n",
    "features = np.array(df.columns)  \n",
    "\n",
    "feat_df = pd.DataFrame({'feature': features, 'importance': c})\n",
    "\n",
    "top5 = feat_df.sort_values(by='importance', ascending=False).head(5)\n",
    "print(top5)"
   ]
  },
  {
   "cell_type": "code",
   "execution_count": 71,
   "id": "ca719477",
   "metadata": {},
   "outputs": [
    {
     "data": {
      "text/html": [
       "<div>\n",
       "<style scoped>\n",
       "    .dataframe tbody tr th:only-of-type {\n",
       "        vertical-align: middle;\n",
       "    }\n",
       "\n",
       "    .dataframe tbody tr th {\n",
       "        vertical-align: top;\n",
       "    }\n",
       "\n",
       "    .dataframe thead th {\n",
       "        text-align: right;\n",
       "    }\n",
       "</style>\n",
       "<table border=\"1\" class=\"dataframe\">\n",
       "  <thead>\n",
       "    <tr style=\"text-align: right;\">\n",
       "      <th></th>\n",
       "      <th>months_as_customer</th>\n",
       "      <th>policy_deductable</th>\n",
       "      <th>umbrella_limit</th>\n",
       "      <th>capital-gains</th>\n",
       "      <th>capital-loss</th>\n",
       "      <th>incident_hour_of_the_day</th>\n",
       "      <th>number_of_vehicles_involved</th>\n",
       "      <th>bodily_injuries</th>\n",
       "      <th>witnesses</th>\n",
       "      <th>injury_claim</th>\n",
       "      <th>...</th>\n",
       "      <th>incident_severity_Total Loss</th>\n",
       "      <th>incident_severity_Trivial Damage</th>\n",
       "      <th>authorities_contacted_Ambulance</th>\n",
       "      <th>authorities_contacted_Fire</th>\n",
       "      <th>authorities_contacted_Other</th>\n",
       "      <th>authorities_contacted_Police</th>\n",
       "      <th>property_damage_NO</th>\n",
       "      <th>property_damage_YES</th>\n",
       "      <th>police_report_available_NO</th>\n",
       "      <th>police_report_available_YES</th>\n",
       "    </tr>\n",
       "  </thead>\n",
       "  <tbody>\n",
       "    <tr>\n",
       "      <th>0</th>\n",
       "      <td>1.081258</td>\n",
       "      <td>-0.222499</td>\n",
       "      <td>-0.479771</td>\n",
       "      <td>1.012150</td>\n",
       "      <td>0.954763</td>\n",
       "      <td>-0.955411</td>\n",
       "      <td>-0.823305</td>\n",
       "      <td>0.009764</td>\n",
       "      <td>0.463400</td>\n",
       "      <td>-0.189102</td>\n",
       "      <td>...</td>\n",
       "      <td>False</td>\n",
       "      <td>False</td>\n",
       "      <td>False</td>\n",
       "      <td>False</td>\n",
       "      <td>False</td>\n",
       "      <td>True</td>\n",
       "      <td>False</td>\n",
       "      <td>True</td>\n",
       "      <td>False</td>\n",
       "      <td>True</td>\n",
       "    </tr>\n",
       "    <tr>\n",
       "      <th>1</th>\n",
       "      <td>0.211081</td>\n",
       "      <td>1.411889</td>\n",
       "      <td>1.696847</td>\n",
       "      <td>-0.900939</td>\n",
       "      <td>0.954763</td>\n",
       "      <td>-0.523791</td>\n",
       "      <td>-0.823305</td>\n",
       "      <td>-1.209559</td>\n",
       "      <td>-1.337910</td>\n",
       "      <td>-1.363058</td>\n",
       "      <td>...</td>\n",
       "      <td>False</td>\n",
       "      <td>False</td>\n",
       "      <td>False</td>\n",
       "      <td>False</td>\n",
       "      <td>False</td>\n",
       "      <td>True</td>\n",
       "      <td>True</td>\n",
       "      <td>False</td>\n",
       "      <td>True</td>\n",
       "      <td>False</td>\n",
       "    </tr>\n",
       "    <tr>\n",
       "      <th>2</th>\n",
       "      <td>-0.606885</td>\n",
       "      <td>1.411889</td>\n",
       "      <td>1.696847</td>\n",
       "      <td>0.358900</td>\n",
       "      <td>0.954763</td>\n",
       "      <td>-0.667664</td>\n",
       "      <td>1.139659</td>\n",
       "      <td>1.229087</td>\n",
       "      <td>1.364055</td>\n",
       "      <td>0.054704</td>\n",
       "      <td>...</td>\n",
       "      <td>False</td>\n",
       "      <td>False</td>\n",
       "      <td>False</td>\n",
       "      <td>False</td>\n",
       "      <td>False</td>\n",
       "      <td>True</td>\n",
       "      <td>True</td>\n",
       "      <td>False</td>\n",
       "      <td>True</td>\n",
       "      <td>False</td>\n",
       "    </tr>\n",
       "    <tr>\n",
       "      <th>3</th>\n",
       "      <td>0.454731</td>\n",
       "      <td>1.411889</td>\n",
       "      <td>2.132170</td>\n",
       "      <td>0.854221</td>\n",
       "      <td>-1.266566</td>\n",
       "      <td>-0.955411</td>\n",
       "      <td>-0.823305</td>\n",
       "      <td>0.009764</td>\n",
       "      <td>0.463400</td>\n",
       "      <td>-0.223931</td>\n",
       "      <td>...</td>\n",
       "      <td>False</td>\n",
       "      <td>False</td>\n",
       "      <td>False</td>\n",
       "      <td>False</td>\n",
       "      <td>False</td>\n",
       "      <td>True</td>\n",
       "      <td>True</td>\n",
       "      <td>False</td>\n",
       "      <td>True</td>\n",
       "      <td>False</td>\n",
       "    </tr>\n",
       "    <tr>\n",
       "      <th>4</th>\n",
       "      <td>0.211081</td>\n",
       "      <td>-0.222499</td>\n",
       "      <td>2.132170</td>\n",
       "      <td>1.467989</td>\n",
       "      <td>-0.682755</td>\n",
       "      <td>1.202688</td>\n",
       "      <td>-0.823305</td>\n",
       "      <td>-1.209559</td>\n",
       "      <td>-0.437255</td>\n",
       "      <td>-1.256521</td>\n",
       "      <td>...</td>\n",
       "      <td>False</td>\n",
       "      <td>False</td>\n",
       "      <td>False</td>\n",
       "      <td>False</td>\n",
       "      <td>False</td>\n",
       "      <td>False</td>\n",
       "      <td>True</td>\n",
       "      <td>False</td>\n",
       "      <td>True</td>\n",
       "      <td>False</td>\n",
       "    </tr>\n",
       "  </tbody>\n",
       "</table>\n",
       "<p>5 rows × 63 columns</p>\n",
       "</div>"
      ],
      "text/plain": [
       "   months_as_customer  policy_deductable  umbrella_limit  capital-gains  \\\n",
       "0            1.081258          -0.222499       -0.479771       1.012150   \n",
       "1            0.211081           1.411889        1.696847      -0.900939   \n",
       "2           -0.606885           1.411889        1.696847       0.358900   \n",
       "3            0.454731           1.411889        2.132170       0.854221   \n",
       "4            0.211081          -0.222499        2.132170       1.467989   \n",
       "\n",
       "   capital-loss  incident_hour_of_the_day  number_of_vehicles_involved  \\\n",
       "0      0.954763                 -0.955411                    -0.823305   \n",
       "1      0.954763                 -0.523791                    -0.823305   \n",
       "2      0.954763                 -0.667664                     1.139659   \n",
       "3     -1.266566                 -0.955411                    -0.823305   \n",
       "4     -0.682755                  1.202688                    -0.823305   \n",
       "\n",
       "   bodily_injuries  witnesses  injury_claim  ...  \\\n",
       "0         0.009764   0.463400     -0.189102  ...   \n",
       "1        -1.209559  -1.337910     -1.363058  ...   \n",
       "2         1.229087   1.364055      0.054704  ...   \n",
       "3         0.009764   0.463400     -0.223931  ...   \n",
       "4        -1.209559  -0.437255     -1.256521  ...   \n",
       "\n",
       "   incident_severity_Total Loss  incident_severity_Trivial Damage  \\\n",
       "0                         False                             False   \n",
       "1                         False                             False   \n",
       "2                         False                             False   \n",
       "3                         False                             False   \n",
       "4                         False                             False   \n",
       "\n",
       "  authorities_contacted_Ambulance authorities_contacted_Fire  \\\n",
       "0                           False                      False   \n",
       "1                           False                      False   \n",
       "2                           False                      False   \n",
       "3                           False                      False   \n",
       "4                           False                      False   \n",
       "\n",
       "  authorities_contacted_Other authorities_contacted_Police property_damage_NO  \\\n",
       "0                       False                         True              False   \n",
       "1                       False                         True               True   \n",
       "2                       False                         True               True   \n",
       "3                       False                         True               True   \n",
       "4                       False                        False               True   \n",
       "\n",
       "  property_damage_YES police_report_available_NO police_report_available_YES  \n",
       "0                True                      False                        True  \n",
       "1               False                       True                       False  \n",
       "2               False                       True                       False  \n",
       "3               False                       True                       False  \n",
       "4               False                       True                       False  \n",
       "\n",
       "[5 rows x 63 columns]"
      ]
     },
     "execution_count": 71,
     "metadata": {},
     "output_type": "execute_result"
    }
   ],
   "source": [
    "df.head()"
   ]
  }
 ],
 "metadata": {
  "kernelspec": {
   "display_name": "Python 3",
   "language": "python",
   "name": "python3"
  },
  "language_info": {
   "codemirror_mode": {
    "name": "ipython",
    "version": 3
   },
   "file_extension": ".py",
   "mimetype": "text/x-python",
   "name": "python",
   "nbconvert_exporter": "python",
   "pygments_lexer": "ipython3",
   "version": "3.13.2"
  }
 },
 "nbformat": 4,
 "nbformat_minor": 5
}
