{
 "cells": [
  {
   "cell_type": "code",
   "execution_count": 203,
   "id": "0784de36",
   "metadata": {},
   "outputs": [],
   "source": [
    "import pandas as pd\n",
    "import numpy as np\n",
    "from sklearn.ensemble import RandomForestClassifier\n",
    "from sklearn.tree import DecisionTreeClassifier\n",
    "from sklearn.metrics import f1_score\n",
    "from sklearn.model_selection import train_test_split, GridSearchCV"
   ]
  },
  {
   "cell_type": "code",
   "execution_count": 204,
   "id": "edfe325b",
   "metadata": {},
   "outputs": [
    {
     "name": "stderr",
     "output_type": "stream",
     "text": [
      "<>:1: SyntaxWarning: invalid escape sequence '\\T'\n",
      "<>:1: SyntaxWarning: invalid escape sequence '\\T'\n",
      "C:\\Users\\Admin\\AppData\\Local\\Temp\\ipykernel_20844\\1517680743.py:1: SyntaxWarning: invalid escape sequence '\\T'\n",
      "  data = pd.read_csv('C:\\Th-th-ch-BAI-Labs\\Bai_5\\data\\insurance_claims.csv')\n"
     ]
    }
   ],
   "source": [
    "data = pd.read_csv('C:\\Th-th-ch-BAI-Labs\\Bai_5\\data\\insurance_claims.csv')"
   ]
  },
  {
   "cell_type": "code",
   "execution_count": 205,
   "id": "e6acc774",
   "metadata": {},
   "outputs": [],
   "source": [
    "dropc_list = ['policy_number','policy_bind_date','policy_state','insured_zip','incident_location','incident_date',\n",
    "           'incident_state','incident_city','insured_hobbies','auto_make','auto_model','auto_year', '_c39',\n",
    "           'age','total_claim_amount']\n",
    "dropr_list = [578]"
   ]
  },
  {
   "cell_type": "code",
   "execution_count": null,
   "id": "df1cf6e2",
   "metadata": {},
   "outputs": [],
   "source": []
  },
  {
   "cell_type": "code",
   "execution_count": 206,
   "id": "4808f96c",
   "metadata": {},
   "outputs": [
    {
     "name": "stderr",
     "output_type": "stream",
     "text": [
      "C:\\Users\\Admin\\AppData\\Local\\Temp\\ipykernel_20844\\2222906449.py:5: FutureWarning: Downcasting behavior in `replace` is deprecated and will be removed in a future version. To retain the old behavior, explicitly call `result.infer_objects(copy=False)`. To opt-in to the future behavior, set `pd.set_option('future.no_silent_downcasting', True)`\n",
      "  df['fraud_reported'] = df['fraud_reported'].replace({'Y':1, 'N':0})\n"
     ]
    }
   ],
   "source": [
    "# don't remove\n",
    "df = data.copy()\n",
    "df.drop(columns=dropc_list, inplace=True)\n",
    "df.drop(index=dropr_list, inplace=True)\n",
    "df['fraud_reported'] = df['fraud_reported'].replace({'Y':1, 'N':0})\n",
    "target = df.pop('fraud_reported')\n",
    "df.replace('?', np.nan, inplace = True)"
   ]
  },
  {
   "cell_type": "code",
   "execution_count": 207,
   "id": "ec1b5e25",
   "metadata": {},
   "outputs": [],
   "source": [
    "df['collision_type'] = df['collision_type'].fillna(df['collision_type'].mode()[0])\n",
    "df['property_damage'] = df['property_damage'].fillna(df['property_damage'].mode()[0])\n",
    "df['police_report_available'] = df['police_report_available'].fillna(df['police_report_available'].mode()[0])"
   ]
  },
  {
   "cell_type": "code",
   "execution_count": 208,
   "id": "94e6af7c",
   "metadata": {},
   "outputs": [],
   "source": [
    "o_col = df.select_dtypes(include = ['object'])\n",
    "num_df = df.select_dtypes(include = ['int64'])"
   ]
  },
  {
   "cell_type": "code",
   "execution_count": 209,
   "id": "7fec4726",
   "metadata": {},
   "outputs": [],
   "source": [
    "o_col = pd.get_dummies(o_col)"
   ]
  },
  {
   "cell_type": "code",
   "execution_count": 210,
   "id": "195e4880",
   "metadata": {},
   "outputs": [],
   "source": [
    "\n",
    "df = pd.concat([num_df, o_col], axis = 1)"
   ]
  },
  {
   "cell_type": "code",
   "execution_count": 211,
   "id": "29bca84f",
   "metadata": {},
   "outputs": [],
   "source": [
    "X_train, X_test, y_train, y_test = train_test_split(df, target, test_size = 0.2, random_state = 42)"
   ]
  },
  {
   "cell_type": "code",
   "execution_count": 212,
   "id": "c769c805",
   "metadata": {},
   "outputs": [],
   "source": [
    "param_grid = {\n",
    "    'criterion': ['gini', 'entropy'],\n",
    "    'max_depth': list(range(1, 10, 2)) + [None],\n",
    "    'min_samples_leaf': range(1, 10, 2),\n",
    "    'min_samples_split': range(1, 10, 2),\n",
    "}"
   ]
  },
  {
   "cell_type": "code",
   "execution_count": 213,
   "id": "5085c6c1",
   "metadata": {},
   "outputs": [],
   "source": [
    "grid_search = GridSearchCV(DecisionTreeClassifier(), param_grid, cv = 5)"
   ]
  },
  {
   "cell_type": "code",
   "execution_count": 214,
   "id": "6ebfac1d",
   "metadata": {},
   "outputs": [],
   "source": [
    "#grid_search.fit(X_train, y_train)"
   ]
  },
  {
   "cell_type": "code",
   "execution_count": 215,
   "id": "a3b3b81d",
   "metadata": {},
   "outputs": [],
   "source": [
    "#grid_search.best_estimator_"
   ]
  },
  {
   "cell_type": "code",
   "execution_count": 216,
   "id": "829c064a",
   "metadata": {},
   "outputs": [],
   "source": [
    "dt = DecisionTreeClassifier(\n",
    "                            max_depth = 1,\n",
    "                            min_samples_leaf= 3, \n",
    "                            min_samples_split = 3, \n",
    "                            random_state = 42,)"
   ]
  },
  {
   "cell_type": "code",
   "execution_count": 217,
   "id": "3c21fbc9",
   "metadata": {},
   "outputs": [
    {
     "name": "stdout",
     "output_type": "stream",
     "text": [
      "0.6539379474940334\n",
      "0.5769230769230769\n"
     ]
    }
   ],
   "source": [
    "dt.fit(X_train, y_train)\n",
    "print(f1_score(dt.predict(X_train), y_train))\n",
    "print(f1_score(dt.predict(X_test), y_test))"
   ]
  },
  {
   "cell_type": "code",
   "execution_count": 218,
   "id": "7c588247",
   "metadata": {},
   "outputs": [
    {
     "name": "stdout",
     "output_type": "stream",
     "text": [
      "0.8809523809523809\n",
      "0.5631067961165048\n"
     ]
    }
   ],
   "source": [
    "rf = RandomForestClassifier(criterion= 'entropy',\n",
    "                            min_samples_leaf= 1, \n",
    "                            min_samples_split = 10, \n",
    "                            n_estimators= 82, \n",
    "                            random_state = 42,\n",
    "                            class_weight = 'balanced_subsample',\n",
    ")\n",
    "rf.fit(X_train, y_train)\n",
    "print(f1_score(rf.predict(X_train), y_train))\n",
    "print(f1_score(rf.predict(X_test), y_test))"
   ]
  },
  {
   "cell_type": "code",
   "execution_count": 219,
   "id": "003fd688",
   "metadata": {},
   "outputs": [
    {
     "name": "stdout",
     "output_type": "stream",
     "text": [
      "                           feature  importance\n",
      "51  incident_severity_Major Damage    0.173214\n",
      "10                  property_claim    0.074933\n",
      "9                     injury_claim    0.061751\n",
      "11                   vehicle_claim    0.058697\n",
      "52  incident_severity_Minor Damage    0.054481\n"
     ]
    }
   ],
   "source": [
    "c = np.array(rf.feature_importances_)\n",
    "features = np.array(df.columns)  # X là dataframe train input\n",
    "\n",
    "# Tạo dataframe để dễ sort\n",
    "feat_df = pd.DataFrame({'feature': features, 'importance': c})\n",
    "\n",
    "# Sort giảm dần và in 5 feature quan trọng nhất\n",
    "top5 = feat_df.sort_values(by='importance', ascending=False).head(5)\n",
    "print(top5)"
   ]
  },
  {
   "cell_type": "code",
   "execution_count": 220,
   "id": "0827c6fc",
   "metadata": {},
   "outputs": [
    {
     "name": "stdout",
     "output_type": "stream",
     "text": [
      "                           feature  importance\n",
      "51  incident_severity_Major Damage         1.0\n",
      "1                policy_deductable         0.0\n",
      "0               months_as_customer         0.0\n",
      "3                    capital-gains         0.0\n",
      "4                     capital-loss         0.0\n"
     ]
    }
   ],
   "source": [
    "c = np.array(dt.feature_importances_)\n",
    "features = np.array(df.columns)  # X là dataframe train input\n",
    "\n",
    "# Tạo dataframe để dễ sort\n",
    "feat_df = pd.DataFrame({'feature': features, 'importance': c})\n",
    "\n",
    "# Sort giảm dần và in 5 feature quan trọng nhất\n",
    "top5 = feat_df.sort_values(by='importance', ascending=False).head(5)\n",
    "print(top5)"
   ]
  },
  {
   "cell_type": "code",
   "execution_count": 221,
   "id": "ca719477",
   "metadata": {},
   "outputs": [
    {
     "data": {
      "text/html": [
       "<div>\n",
       "<style scoped>\n",
       "    .dataframe tbody tr th:only-of-type {\n",
       "        vertical-align: middle;\n",
       "    }\n",
       "\n",
       "    .dataframe tbody tr th {\n",
       "        vertical-align: top;\n",
       "    }\n",
       "\n",
       "    .dataframe thead th {\n",
       "        text-align: right;\n",
       "    }\n",
       "</style>\n",
       "<table border=\"1\" class=\"dataframe\">\n",
       "  <thead>\n",
       "    <tr style=\"text-align: right;\">\n",
       "      <th></th>\n",
       "      <th>months_as_customer</th>\n",
       "      <th>policy_deductable</th>\n",
       "      <th>umbrella_limit</th>\n",
       "      <th>capital-gains</th>\n",
       "      <th>capital-loss</th>\n",
       "      <th>incident_hour_of_the_day</th>\n",
       "      <th>number_of_vehicles_involved</th>\n",
       "      <th>bodily_injuries</th>\n",
       "      <th>witnesses</th>\n",
       "      <th>injury_claim</th>\n",
       "      <th>...</th>\n",
       "      <th>incident_severity_Total Loss</th>\n",
       "      <th>incident_severity_Trivial Damage</th>\n",
       "      <th>authorities_contacted_Ambulance</th>\n",
       "      <th>authorities_contacted_Fire</th>\n",
       "      <th>authorities_contacted_Other</th>\n",
       "      <th>authorities_contacted_Police</th>\n",
       "      <th>property_damage_NO</th>\n",
       "      <th>property_damage_YES</th>\n",
       "      <th>police_report_available_NO</th>\n",
       "      <th>police_report_available_YES</th>\n",
       "    </tr>\n",
       "  </thead>\n",
       "  <tbody>\n",
       "    <tr>\n",
       "      <th>0</th>\n",
       "      <td>328</td>\n",
       "      <td>1000</td>\n",
       "      <td>0</td>\n",
       "      <td>53300</td>\n",
       "      <td>0</td>\n",
       "      <td>5</td>\n",
       "      <td>1</td>\n",
       "      <td>1</td>\n",
       "      <td>2</td>\n",
       "      <td>6510</td>\n",
       "      <td>...</td>\n",
       "      <td>False</td>\n",
       "      <td>False</td>\n",
       "      <td>False</td>\n",
       "      <td>False</td>\n",
       "      <td>False</td>\n",
       "      <td>True</td>\n",
       "      <td>False</td>\n",
       "      <td>True</td>\n",
       "      <td>False</td>\n",
       "      <td>True</td>\n",
       "    </tr>\n",
       "    <tr>\n",
       "      <th>1</th>\n",
       "      <td>228</td>\n",
       "      <td>2000</td>\n",
       "      <td>5000000</td>\n",
       "      <td>0</td>\n",
       "      <td>0</td>\n",
       "      <td>8</td>\n",
       "      <td>1</td>\n",
       "      <td>0</td>\n",
       "      <td>0</td>\n",
       "      <td>780</td>\n",
       "      <td>...</td>\n",
       "      <td>False</td>\n",
       "      <td>False</td>\n",
       "      <td>False</td>\n",
       "      <td>False</td>\n",
       "      <td>False</td>\n",
       "      <td>True</td>\n",
       "      <td>True</td>\n",
       "      <td>False</td>\n",
       "      <td>True</td>\n",
       "      <td>False</td>\n",
       "    </tr>\n",
       "    <tr>\n",
       "      <th>2</th>\n",
       "      <td>134</td>\n",
       "      <td>2000</td>\n",
       "      <td>5000000</td>\n",
       "      <td>35100</td>\n",
       "      <td>0</td>\n",
       "      <td>7</td>\n",
       "      <td>3</td>\n",
       "      <td>2</td>\n",
       "      <td>3</td>\n",
       "      <td>7700</td>\n",
       "      <td>...</td>\n",
       "      <td>False</td>\n",
       "      <td>False</td>\n",
       "      <td>False</td>\n",
       "      <td>False</td>\n",
       "      <td>False</td>\n",
       "      <td>True</td>\n",
       "      <td>True</td>\n",
       "      <td>False</td>\n",
       "      <td>True</td>\n",
       "      <td>False</td>\n",
       "    </tr>\n",
       "    <tr>\n",
       "      <th>3</th>\n",
       "      <td>256</td>\n",
       "      <td>2000</td>\n",
       "      <td>6000000</td>\n",
       "      <td>48900</td>\n",
       "      <td>-62400</td>\n",
       "      <td>5</td>\n",
       "      <td>1</td>\n",
       "      <td>1</td>\n",
       "      <td>2</td>\n",
       "      <td>6340</td>\n",
       "      <td>...</td>\n",
       "      <td>False</td>\n",
       "      <td>False</td>\n",
       "      <td>False</td>\n",
       "      <td>False</td>\n",
       "      <td>False</td>\n",
       "      <td>True</td>\n",
       "      <td>True</td>\n",
       "      <td>False</td>\n",
       "      <td>True</td>\n",
       "      <td>False</td>\n",
       "    </tr>\n",
       "    <tr>\n",
       "      <th>4</th>\n",
       "      <td>228</td>\n",
       "      <td>1000</td>\n",
       "      <td>6000000</td>\n",
       "      <td>66000</td>\n",
       "      <td>-46000</td>\n",
       "      <td>20</td>\n",
       "      <td>1</td>\n",
       "      <td>0</td>\n",
       "      <td>1</td>\n",
       "      <td>1300</td>\n",
       "      <td>...</td>\n",
       "      <td>False</td>\n",
       "      <td>False</td>\n",
       "      <td>False</td>\n",
       "      <td>False</td>\n",
       "      <td>False</td>\n",
       "      <td>False</td>\n",
       "      <td>True</td>\n",
       "      <td>False</td>\n",
       "      <td>True</td>\n",
       "      <td>False</td>\n",
       "    </tr>\n",
       "  </tbody>\n",
       "</table>\n",
       "<p>5 rows × 63 columns</p>\n",
       "</div>"
      ],
      "text/plain": [
       "   months_as_customer  policy_deductable  umbrella_limit  capital-gains  \\\n",
       "0                 328               1000               0          53300   \n",
       "1                 228               2000         5000000              0   \n",
       "2                 134               2000         5000000          35100   \n",
       "3                 256               2000         6000000          48900   \n",
       "4                 228               1000         6000000          66000   \n",
       "\n",
       "   capital-loss  incident_hour_of_the_day  number_of_vehicles_involved  \\\n",
       "0             0                         5                            1   \n",
       "1             0                         8                            1   \n",
       "2             0                         7                            3   \n",
       "3        -62400                         5                            1   \n",
       "4        -46000                        20                            1   \n",
       "\n",
       "   bodily_injuries  witnesses  injury_claim  ...  \\\n",
       "0                1          2          6510  ...   \n",
       "1                0          0           780  ...   \n",
       "2                2          3          7700  ...   \n",
       "3                1          2          6340  ...   \n",
       "4                0          1          1300  ...   \n",
       "\n",
       "   incident_severity_Total Loss  incident_severity_Trivial Damage  \\\n",
       "0                         False                             False   \n",
       "1                         False                             False   \n",
       "2                         False                             False   \n",
       "3                         False                             False   \n",
       "4                         False                             False   \n",
       "\n",
       "   authorities_contacted_Ambulance  authorities_contacted_Fire  \\\n",
       "0                            False                       False   \n",
       "1                            False                       False   \n",
       "2                            False                       False   \n",
       "3                            False                       False   \n",
       "4                            False                       False   \n",
       "\n",
       "   authorities_contacted_Other  authorities_contacted_Police  \\\n",
       "0                        False                          True   \n",
       "1                        False                          True   \n",
       "2                        False                          True   \n",
       "3                        False                          True   \n",
       "4                        False                         False   \n",
       "\n",
       "   property_damage_NO  property_damage_YES  police_report_available_NO  \\\n",
       "0               False                 True                       False   \n",
       "1                True                False                        True   \n",
       "2                True                False                        True   \n",
       "3                True                False                        True   \n",
       "4                True                False                        True   \n",
       "\n",
       "   police_report_available_YES  \n",
       "0                         True  \n",
       "1                        False  \n",
       "2                        False  \n",
       "3                        False  \n",
       "4                        False  \n",
       "\n",
       "[5 rows x 63 columns]"
      ]
     },
     "execution_count": 221,
     "metadata": {},
     "output_type": "execute_result"
    }
   ],
   "source": [
    "df.head()"
   ]
  }
 ],
 "metadata": {
  "kernelspec": {
   "display_name": "Python 3",
   "language": "python",
   "name": "python3"
  },
  "language_info": {
   "codemirror_mode": {
    "name": "ipython",
    "version": 3
   },
   "file_extension": ".py",
   "mimetype": "text/x-python",
   "name": "python",
   "nbconvert_exporter": "python",
   "pygments_lexer": "ipython3",
   "version": "3.13.2"
  }
 },
 "nbformat": 4,
 "nbformat_minor": 5
}
